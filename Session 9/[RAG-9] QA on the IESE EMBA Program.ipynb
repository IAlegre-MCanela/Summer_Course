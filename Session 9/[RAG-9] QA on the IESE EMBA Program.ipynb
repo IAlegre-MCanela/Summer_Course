{
 "cells": [
  {
   "cell_type": "markdown",
   "metadata": {
    "id": "RFjI2aPHGB9T"
   },
   "source": [
    "# [RAG-9] Q/A on the IESE EMBA Program"
   ]
  },
  {
   "cell_type": "markdown",
   "metadata": {
    "id": "uhnXhS-bGKoP"
   },
   "source": [
    "## Setup"
   ]
  },
  {
   "cell_type": "code",
   "execution_count": null,
   "metadata": {
    "id": "bODkrf_8GOvV"
   },
   "outputs": [],
   "source": [
    "!pip install lmstudio"
   ]
  },
  {
   "cell_type": "code",
   "execution_count": null,
   "metadata": {
    "id": "m4YXtJcjKjzo"
   },
   "outputs": [],
   "source": [
    "!pip install openai"
   ]
  },
  {
   "cell_type": "code",
   "execution_count": null,
   "metadata": {
    "id": "-DhVySqKGS8g"
   },
   "outputs": [],
   "source": [
    "import lmstudio as lms, numpy as np, pandas as pd\n",
    "from openai import OpenAI"
   ]
  },
  {
   "cell_type": "markdown",
   "metadata": {
    "id": "F3weY2cjKVWv"
   },
   "source": [
    "## Model selection"
   ]
  },
  {
   "cell_type": "code",
   "execution_count": null,
   "metadata": {
    "id": "RYoTkPjJJXIv"
   },
   "outputs": [],
   "source": [
    "embed_model = 'text-embedding-granite-embedding-278m-multilingual'"
   ]
  },
  {
   "cell_type": "code",
   "execution_count": null,
   "metadata": {
    "id": "UbGkZdEBJaI9"
   },
   "outputs": [],
   "source": [
    "chat_model = 'ibm-granite/granite-3.3-8b-instruct-GGUF'\n",
    "# chat_model = 'qwen3-14b'\n",
    "# chat_model = 'mistral-small-3.1-24b-instruct-2503'\n",
    "# chat_model = 'gemma-3-12b-it'"
   ]
  },
  {
   "cell_type": "markdown",
   "metadata": {
    "id": "aIt4_aUsKcp8"
   },
   "source": [
    "## LM Studio client"
   ]
  },
  {
   "cell_type": "code",
   "execution_count": null,
   "metadata": {
    "id": "qPK8iYwsKwNy"
   },
   "outputs": [],
   "source": [
    "client = OpenAI(base_url = 'http://localhost:1234/v1', api_key = 'lm-studio')"
   ]
  },
  {
   "cell_type": "code",
   "execution_count": null,
   "metadata": {
    "id": "L_jrj5nRKzZs"
   },
   "outputs": [],
   "source": [
    "df = pd.read_json('https://raw.githubusercontent.com/IAlegre-MCanela/Summer_Course/main/Session%209/faq.json')"
   ]
  },
  {
   "cell_type": "code",
   "execution_count": null,
   "metadata": {
    "id": "qR3HF3iYK2D4"
   },
   "outputs": [],
   "source": [
    "questions = df['question'].tolist()"
   ]
  },
  {
   "cell_type": "code",
   "execution_count": null,
   "metadata": {
    "id": "YUK1itsBK4zZ"
   },
   "outputs": [],
   "source": [
    "N = len(df)\n",
    "N"
   ]
  },
  {
   "cell_type": "code",
   "execution_count": null,
   "metadata": {
    "id": "lpxwKiuVK7IU"
   },
   "outputs": [],
   "source": [
    "response = client.embeddings.create(model = embed_model, input = questions)"
   ]
  },
  {
   "cell_type": "code",
   "execution_count": null,
   "metadata": {
    "id": "0rJ6f2yCK-Wx"
   },
   "outputs": [],
   "source": [
    "embeds = [response.data[i].embedding for i in range(N)]\n",
    "embeds = np.array(embeds)\n",
    "embeds.shape"
   ]
  },
  {
   "cell_type": "markdown",
   "metadata": {
    "id": "QmRxDyd3LDJy"
   },
   "source": [
    "## Encoding the query"
   ]
  },
  {
   "cell_type": "code",
   "execution_count": null,
   "metadata": {
    "id": "fgHxbQ8XLGUU"
   },
   "outputs": [],
   "source": [
    "query = 'Are courses taught in Spanish?'"
   ]
  },
  {
   "cell_type": "code",
   "execution_count": null,
   "metadata": {
    "id": "kWwYN3ntLIng"
   },
   "outputs": [],
   "source": [
    "response = client.embeddings.create(model = embed_model, input = [query])"
   ]
  },
  {
   "cell_type": "code",
   "execution_count": null,
   "metadata": {
    "id": "maL6SwNtLLMi"
   },
   "outputs": [],
   "source": [
    "query_embed = response.data[0].embedding\n",
    "query_embed = np.array(query_embed)\n",
    "query_embed.shape"
   ]
  },
  {
   "cell_type": "markdown",
   "metadata": {
    "id": "Nyaog-eALPZr"
   },
   "source": [
    "## Search for the closest questions"
   ]
  },
  {
   "cell_type": "code",
   "execution_count": null,
   "metadata": {
    "id": "0Y_ykFThLUMc"
   },
   "outputs": [],
   "source": [
    "df['similarity'] = np.dot(embeds, query_embed.T)\n",
    "df.head()"
   ]
  },
  {
   "cell_type": "code",
   "execution_count": null,
   "metadata": {
    "id": "qPcqJakgLX30"
   },
   "outputs": [],
   "source": [
    "top5 = df.sort_values(by='similarity', ascending=False).head(5)\n",
    "top5"
   ]
  },
  {
   "cell_type": "markdown",
   "metadata": {
    "id": "jXQogfYKLa0W"
   },
   "source": [
    "## System instructions"
   ]
  },
  {
   "cell_type": "code",
   "execution_count": null,
   "metadata": {
    "id": "koWQQdpyLeMN"
   },
   "outputs": [],
   "source": [
    "instruction = '''\n",
    "You are a chatbot providing an answer to a user question about MBA programs at IESE Business School.\n",
    "You will be shown the user question.\n",
    "Make your answer shorter than 50 words.\n",
    "Use only the information provided.\n",
    "If the information provided doesn't mention the subject of the query, limit your response to the following:\n",
    "<response>\n",
    "Unfortunately, I don't have information about this subject. Please, directly contact with the school.\n",
    "</response>\n",
    "'''"
   ]
  },
  {
   "cell_type": "code",
   "execution_count": null,
   "metadata": {
    "id": "av6mkIwDLhDC"
   },
   "outputs": [],
   "source": [
    "info = 'Information:\\n' + top5['answer'].sum()\n",
    "print(info)"
   ]
  },
  {
   "cell_type": "markdown",
   "metadata": {
    "id": "KVlExA49LioP"
   },
   "source": [
    "## Submitting the query (with potential reasoning)"
   ]
  },
  {
   "cell_type": "code",
   "execution_count": null,
   "metadata": {
    "id": "HeiEkAHnLq5p"
   },
   "outputs": [],
   "source": [
    "query_response = client.chat.completions.create(\n",
    "    messages = [{'role': 'system', 'content': instruction + info}, {'role': 'user', 'content': query}],\n",
    "    model = chat_model)\n",
    "print(query_response.choices[0].message.content)"
   ]
  }
 ],
 "metadata": {
  "colab": {
   "authorship_tag": "ABX9TyNGW4++e+49628eFKwbAEp8",
   "include_colab_link": true,
   "provenance": []
  },
  "kernelspec": {
   "display_name": "Python 3 (ipykernel)",
   "language": "python",
   "name": "python3"
  },
  "language_info": {
   "codemirror_mode": {
    "name": "ipython",
    "version": 3
   },
   "file_extension": ".py",
   "mimetype": "text/x-python",
   "name": "python",
   "nbconvert_exporter": "python",
   "pygments_lexer": "ipython3",
   "version": "3.12.2"
  }
 },
 "nbformat": 4,
 "nbformat_minor": 4
}
